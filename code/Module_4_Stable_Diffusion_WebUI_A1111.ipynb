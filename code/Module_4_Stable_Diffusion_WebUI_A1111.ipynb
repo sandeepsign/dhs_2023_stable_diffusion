{
 "cells": [
  {
   "cell_type": "code",
   "execution_count": null,
   "id": "1279a2f7",
   "metadata": {
    "ExecuteTime": {
     "end_time": "2023-07-28T06:42:55.125428Z",
     "start_time": "2023-07-28T06:42:55.122550Z"
    },
    "tags": []
   },
   "outputs": [],
   "source": [
    "!pip install -q tqdm\n",
    "!pip install -q -U numpy==1.24.3\n",
    "\n",
    "import os\n",
    "import requests\n",
    "\n",
    "from tqdm.auto import tqdm"
   ]
  },
  {
   "cell_type": "code",
   "execution_count": null,
   "id": "cd4a423d",
   "metadata": {
    "ExecuteTime": {
     "end_time": "2023-07-28T06:42:56.003455Z",
     "start_time": "2023-07-28T06:42:56.000326Z"
    },
    "tags": []
   },
   "outputs": [],
   "source": [
    "def download_file(url, save_name):\n",
    "    if not os.path.exists(save_name):\n",
    "        print(f\"Downloading file\")\n",
    "        file = requests.get(url, stream=True)\n",
    "        total_size = int(file.headers.get('content-length', 0))\n",
    "        block_size = 1024\n",
    "        progress_bar = tqdm(\n",
    "            total=total_size, \n",
    "            unit='iB', \n",
    "            unit_scale=True\n",
    "        )\n",
    "        with open(os.path.join(save_name), 'wb') as f:\n",
    "            for data in file.iter_content(block_size):\n",
    "                progress_bar.update(len(data))\n",
    "                f.write(data)\n",
    "        progress_bar.close()\n",
    "    else:\n",
    "        print('File already present')"
   ]
  },
  {
   "cell_type": "code",
   "execution_count": null,
   "id": "27759101",
   "metadata": {
    "ExecuteTime": {
     "end_time": "2023-07-28T06:42:59.081186Z",
     "start_time": "2023-07-28T06:42:56.815163Z"
    },
    "tags": []
   },
   "outputs": [],
   "source": [
    "if not os.path.exists('stable-diffusion-webui'):\n",
    "    !git clone https://github.com/AUTOMATIC1111/stable-diffusion-webui.git"
   ]
  },
  {
   "cell_type": "code",
   "execution_count": null,
   "id": "a78c2099",
   "metadata": {
    "ExecuteTime": {
     "end_time": "2023-07-28T06:43:01.266952Z",
     "start_time": "2023-07-28T06:43:01.255231Z"
    },
    "tags": []
   },
   "outputs": [],
   "source": [
    "%cd stable-diffusion-webui"
   ]
  },
  {
   "cell_type": "code",
   "execution_count": null,
   "id": "c8d0a467",
   "metadata": {
    "ExecuteTime": {
     "end_time": "2023-07-28T06:43:02.367145Z",
     "start_time": "2023-07-28T06:43:02.364284Z"
    },
    "tags": []
   },
   "outputs": [],
   "source": [
    "%cd models/Stable-diffusion"
   ]
  },
  {
   "cell_type": "code",
   "execution_count": null,
   "id": "5b0fccbf",
   "metadata": {
    "ExecuteTime": {
     "end_time": "2023-07-28T06:45:30.966615Z",
     "start_time": "2023-07-28T06:43:04.256860Z"
    },
    "tags": []
   },
   "outputs": [],
   "source": [
    "download_file(\n",
    "    'https://huggingface.co/runwayml/stable-diffusion-v1-5/resolve/main/v1-5-pruned-emaonly.ckpt',\n",
    "    'v1-5-pruned-emaonly.ckpt'\n",
    ")"
   ]
  },
  {
   "cell_type": "code",
   "execution_count": null,
   "id": "d5331335",
   "metadata": {
    "ExecuteTime": {
     "end_time": "2023-07-28T06:50:06.181968Z",
     "start_time": "2023-07-28T06:46:52.087991Z"
    },
    "tags": []
   },
   "outputs": [],
   "source": [
    "download_file(\n",
    "    'https://huggingface.co/stabilityai/stable-diffusion-2-1-base/resolve/main/v2-1_512-ema-pruned.ckpt',\n",
    "    'v2-1_512-ema-pruned.ckpt'\n",
    ")"
   ]
  },
  {
   "cell_type": "code",
   "execution_count": null,
   "id": "059c9a9b-716a-4fdf-af7a-bc841593e918",
   "metadata": {},
   "outputs": [],
   "source": [
    "download_file(\n",
    "    'https://civitai.com/api/download/models/125411',\n",
    "    'realisticVisionV50_v50VAE.safetensors'\n",
    ")"
   ]
  },
  {
   "cell_type": "code",
   "execution_count": null,
   "id": "ee7f3095-ec47-4a05-8bfb-bc28e11f8df7",
   "metadata": {},
   "outputs": [],
   "source": [
    "download_file(\n",
    "    'https://civitai.com/api/download/models/121557',\n",
    "    'icbinpICantBelieveIts_seco.safetensors'\n",
    ")"
   ]
  },
  {
   "cell_type": "code",
   "execution_count": null,
   "id": "6cb12105-5131-4d97-99cf-e6509d678312",
   "metadata": {},
   "outputs": [],
   "source": [
    "#download Instruction Pix2Pix\n",
    "!wget https://huggingface.co/timbrooks/instruct-pix2pix/resolve/main/instruct-pix2pix-00-22000.safetensors"
   ]
  },
  {
   "cell_type": "code",
   "execution_count": null,
   "id": "698811b9-9ab1-4dcb-9862-e139166963f9",
   "metadata": {},
   "outputs": [],
   "source": [
    "pwd"
   ]
  },
  {
   "cell_type": "code",
   "execution_count": null,
   "id": "35a96826-1702-4a5e-94d9-677a4df25902",
   "metadata": {},
   "outputs": [],
   "source": [
    "# ControlNet Models to download - Make sure you have enough disk space\n",
    "# !wget https://huggingface.co/lllyasviel/ControlNet-v1-1/blob/main/README.md\n",
    "# !wget https://huggingface.co/lllyasviel/ControlNet-v1-1/blob/main/control_v11e_sd15_ip2p.yaml\n",
    "# !wget https://huggingface.co/lllyasviel/ControlNet-v1-1/resolve/main/control_v11e_sd15_ip2p.pth\n",
    "# !wget https://huggingface.co/lllyasviel/ControlNet-v1-1/resolve/main/control_v11e_sd15_shuffle.pth\n",
    "# !wget https://huggingface.co/lllyasviel/ControlNet-v1-1/blob/main/control_v11e_sd15_shuffle.yaml\n",
    "# !wget https://huggingface.co/lllyasviel/ControlNet-v1-1/resolve/main/control_v11f1e_sd15_tile.pth\n",
    "# !wget https://huggingface.co/lllyasviel/ControlNet-v1-1/blob/main/control_v11f1e_sd15_tile.yaml\n",
    "# !wget https://huggingface.co/lllyasviel/ControlNet-v1-1/resolve/main/control_v11f1p_sd15_depth.pth\n",
    "# !wget https://huggingface.co/lllyasviel/ControlNet-v1-1/blob/main/control_v11f1p_sd15_depth.yaml\n",
    "# !wget https://huggingface.co/lllyasviel/ControlNet-v1-1/resolve/main/control_v11p_sd15_canny.pth\n",
    "# !wget https://huggingface.co/lllyasviel/ControlNet-v1-1/blob/main/control_v11p_sd15_canny.yaml\n",
    "# !wget https://huggingface.co/lllyasviel/ControlNet-v1-1/resolve/main/control_v11p_sd15_inpaint.pth\n",
    "# !wget https://huggingface.co/lllyasviel/ControlNet-v1-1/blob/main/control_v11p_sd15_inpaint.yaml\n",
    "# !wget https://huggingface.co/lllyasviel/ControlNet-v1-1/resolve/main/control_v11p_sd15_lineart.pth\n",
    "# !wget https://huggingface.co/lllyasviel/ControlNet-v1-1/blob/main/control_v11p_sd15_lineart.yaml\n",
    "# !wget https://huggingface.co/lllyasviel/ControlNet-v1-1/resolve/main/control_v11p_sd15_mlsd.pth\n",
    "# !wget https://huggingface.co/lllyasviel/ControlNet-v1-1/blob/main/control_v11p_sd15_mlsd.yaml\n",
    "# !wget https://huggingface.co/lllyasviel/ControlNet-v1-1/resolve/main/control_v11p_sd15_normalbae.pth\n",
    "# !wget https://huggingface.co/lllyasviel/ControlNet-v1-1/blob/main/control_v11p_sd15_normalbae.yaml\n",
    "# !wget https://huggingface.co/lllyasviel/ControlNet-v1-1/resolve/main/control_v11p_sd15_openpose.pth\n",
    "# !wget https://huggingface.co/lllyasviel/ControlNet-v1-1/blob/main/control_v11p_sd15_openpose.yaml\n",
    "# !wget https://huggingface.co/lllyasviel/ControlNet-v1-1/resolve/main/control_v11p_sd15_scribble.pth\n",
    "# !wget https://huggingface.co/lllyasviel/ControlNet-v1-1/blob/main/control_v11p_sd15_scribble.yaml\n",
    "# !wget https://huggingface.co/lllyasviel/ControlNet-v1-1/resolve/main/control_v11p_sd15_seg.pth\n",
    "# !wget https://huggingface.co/lllyasviel/ControlNet-v1-1/blob/main/control_v11p_sd15_seg.yaml\n",
    "# !wget https://huggingface.co/lllyasviel/ControlNet-v1-1/resolve/main/control_v11p_sd15_softedge.pth\n",
    "# !wget https://huggingface.co/lllyasviel/ControlNet-v1-1/blob/main/control_v11p_sd15_softedge.yaml\n",
    "# !wget https://huggingface.co/lllyasviel/ControlNet-v1-1/resolve/main/control_v11p_sd15s2_lineart_anime.pth\n",
    "# !wget https://huggingface.co/lllyasviel/ControlNet-v1-1/blob/main/control_v11p_sd15s2_lineart_anime.yaml"
   ]
  },
  {
   "cell_type": "code",
   "execution_count": null,
   "id": "776a0748",
   "metadata": {
    "ExecuteTime": {
     "end_time": "2023-07-28T06:51:49.573674Z",
     "start_time": "2023-07-28T06:51:49.563459Z"
    },
    "tags": []
   },
   "outputs": [],
   "source": [
    "%cd ../../"
   ]
  },
  {
   "cell_type": "code",
   "execution_count": null,
   "id": "c549c607",
   "metadata": {
    "ExecuteTime": {
     "end_time": "2023-07-28T06:51:54.246121Z",
     "start_time": "2023-07-28T06:51:49.911299Z"
    },
    "tags": []
   },
   "outputs": [],
   "source": [
    "!python launch.py --share --enable-insecure-extension-access"
   ]
  },
  {
   "cell_type": "code",
   "execution_count": null,
   "id": "e829b9c0",
   "metadata": {},
   "outputs": [],
   "source": []
  }
 ],
 "metadata": {
  "kernelspec": {
   "display_name": "Python 3 (ipykernel)",
   "language": "python",
   "name": "python3"
  },
  "language_info": {
   "codemirror_mode": {
    "name": "ipython",
    "version": 3
   },
   "file_extension": ".py",
   "mimetype": "text/x-python",
   "name": "python",
   "nbconvert_exporter": "python",
   "pygments_lexer": "ipython3",
   "version": "3.10.6"
  }
 },
 "nbformat": 4,
 "nbformat_minor": 5
}
